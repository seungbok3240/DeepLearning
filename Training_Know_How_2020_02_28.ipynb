{
  "nbformat": 4,
  "nbformat_minor": 0,
  "metadata": {
    "colab": {
      "name": "Training_Know-How_2020_02_28.ipynb",
      "provenance": [],
      "toc_visible": true,
      "authorship_tag": "ABX9TyO7pnaVFgfYv4rIq8tPcZPC",
      "include_colab_link": true
    },
    "kernelspec": {
      "name": "python3",
      "display_name": "Python 3"
    }
  },
  "cells": [
    {
      "cell_type": "markdown",
      "metadata": {
        "id": "view-in-github",
        "colab_type": "text"
      },
      "source": [
        "<a href=\"https://colab.research.google.com/github/seungbok3240/DeepLearning/blob/master/Training_Know_How_2020_02_28.ipynb\" target=\"_parent\"><img src=\"https://colab.research.google.com/assets/colab-badge.svg\" alt=\"Open In Colab\"/></a>"
      ]
    },
    {
      "cell_type": "code",
      "metadata": {
        "id": "qGuzMzIAQAl3",
        "colab_type": "code",
        "colab": {}
      },
      "source": [
        "from sklearn.datasets import load_breast_cancer"
      ],
      "execution_count": 0,
      "outputs": []
    },
    {
      "cell_type": "code",
      "metadata": {
        "id": "RU503FpeR6MW",
        "colab_type": "code",
        "colab": {}
      },
      "source": [
        "cancer = load_breast_cancer()"
      ],
      "execution_count": 0,
      "outputs": []
    },
    {
      "cell_type": "code",
      "metadata": {
        "id": "BWP8q58BR8Ln",
        "colab_type": "code",
        "colab": {}
      },
      "source": [
        "x = cancer.data\n",
        "y = cancer.target"
      ],
      "execution_count": 0,
      "outputs": []
    },
    {
      "cell_type": "code",
      "metadata": {
        "id": "LZwzKTq_R-nN",
        "colab_type": "code",
        "colab": {}
      },
      "source": [
        "from sklearn.model_selection import train_test_split"
      ],
      "execution_count": 0,
      "outputs": []
    },
    {
      "cell_type": "code",
      "metadata": {
        "id": "G8kN9zSaSEf8",
        "colab_type": "code",
        "colab": {}
      },
      "source": [
        "x_train, x_test, y_train, y_test = train_test_split(x,y, stratify=y, test_size=0.2, random_state=42)"
      ],
      "execution_count": 0,
      "outputs": []
    },
    {
      "cell_type": "code",
      "metadata": {
        "id": "BWCOwKBhSMrW",
        "colab_type": "code",
        "colab": {}
      },
      "source": [
        "from sklearn.linear_model import SGDClassifier"
      ],
      "execution_count": 0,
      "outputs": []
    },
    {
      "cell_type": "code",
      "metadata": {
        "id": "4JqgI79lSRn_",
        "colab_type": "code",
        "colab": {
          "base_uri": "https://localhost:8080/",
          "height": 34
        },
        "outputId": "feb568cf-aae0-4f3b-e236-9fbb2f9e3b9a"
      },
      "source": [
        "sgd = SGDClassifier(loss='log', random_state=42)\n",
        "sgd.fit(x_train, y_train)\n",
        "sgd.score(x_test,y_test)"
      ],
      "execution_count": 10,
      "outputs": [
        {
          "output_type": "execute_result",
          "data": {
            "text/plain": [
              "0.8333333333333334"
            ]
          },
          "metadata": {
            "tags": []
          },
          "execution_count": 10
        }
      ]
    },
    {
      "cell_type": "code",
      "metadata": {
        "id": "4NYfBGZjSnh4",
        "colab_type": "code",
        "colab": {
          "base_uri": "https://localhost:8080/",
          "height": 34
        },
        "outputId": "fb542b48-507b-4690-ed5e-aeb6dbb9bda2"
      },
      "source": [
        "sgd = SGDClassifier(loss='hinge',random_state=42)\n",
        "sgd.fit(x_train, y_train)\n",
        "sgd.score(x_test, y_test)"
      ],
      "execution_count": 11,
      "outputs": [
        {
          "output_type": "execute_result",
          "data": {
            "text/plain": [
              "0.9385964912280702"
            ]
          },
          "metadata": {
            "tags": []
          },
          "execution_count": 11
        }
      ]
    },
    {
      "cell_type": "markdown",
      "metadata": {
        "id": "aUaoxPrnS6s1",
        "colab_type": "text"
      },
      "source": [
        "위와 같이 매개변수(손실함수 등)를 바꾸는 것을 모델을 튜닝한다고 합니다.<br>\n",
        "모델을 튜닝하면 실전에서 좋은 성능을 기대하기 어렵습니다.<br>\n",
        "- 테스트 세트의 정보가 모델에 새어 나감\n",
        "- 테스트 세트의 대해서만 좋은 성능을 낼 수 있음\n",
        "\n",
        "ex) 같은 분야의 시험이라도 공부할 때 봤던 형태의 시험지(테스트 세트)로 시험보는 것이 새로운 형태의 시험지(실전에서의 세트)로 시험보는 것보다 잘 볼 확률이 높습니다."
      ]
    },
    {
      "cell_type": "markdown",
      "metadata": {
        "id": "1ybaZlkcTjq3",
        "colab_type": "text"
      },
      "source": [
        "# 검증 세트 준비하기"
      ]
    },
    {
      "cell_type": "markdown",
      "metadata": {
        "id": "lH0XBuo9TnIq",
        "colab_type": "text"
      },
      "source": [
        "위와 같은 문제를 해결하려면 어떻게 해야할까요? 바로 모델을 튜닝할 때 테스트 세트를 사용하지 않으면 됩니다."
      ]
    },
    {
      "cell_type": "markdown",
      "metadata": {
        "id": "QMtCfFL-Twgw",
        "colab_type": "text"
      },
      "source": [
        "기존 세트를 훈련세트 80% 테스트 세트 20%로 나누던 것을<br>\n",
        "훈련세트 60% 테스트 세트 20% 검증 세트 20% 이런식으로 나누는 방법이 있습니다."
      ]
    },
    {
      "cell_type": "code",
      "metadata": {
        "id": "3fHimfhrTthB",
        "colab_type": "code",
        "colab": {}
      },
      "source": [
        "x_train, x_val, y_train, y_val = train_test_split(x_train,y_train,stratify=y_train,test_size=0.2,random_state=42)"
      ],
      "execution_count": 0,
      "outputs": []
    },
    {
      "cell_type": "code",
      "metadata": {
        "id": "e8-hkhUFUPFS",
        "colab_type": "code",
        "colab": {
          "base_uri": "https://localhost:8080/",
          "height": 34
        },
        "outputId": "27c3ea43-13c3-4f31-8f03-59ecc16b8db3"
      },
      "source": [
        "print(len(x_train), len(x_val))"
      ],
      "execution_count": 13,
      "outputs": [
        {
          "output_type": "stream",
          "text": [
            "364 91\n"
          ],
          "name": "stdout"
        }
      ]
    },
    {
      "cell_type": "code",
      "metadata": {
        "id": "F-h9allbUSj_",
        "colab_type": "code",
        "colab": {
          "base_uri": "https://localhost:8080/",
          "height": 34
        },
        "outputId": "0f2cdd9f-613c-4a75-989a-601b9bbdc4bc"
      },
      "source": [
        "sgd = SGDClassifier(loss='log', random_state=42)\n",
        "sgd.fit(x_train,y_train)\n",
        "sgd.score(x_val, y_val)"
      ],
      "execution_count": 15,
      "outputs": [
        {
          "output_type": "execute_result",
          "data": {
            "text/plain": [
              "0.6923076923076923"
            ]
          },
          "metadata": {
            "tags": []
          },
          "execution_count": 15
        }
      ]
    },
    {
      "cell_type": "markdown",
      "metadata": {
        "id": "s6-t4agzUfrp",
        "colab_type": "text"
      },
      "source": [
        "위에서 했던 훈련보다 정확성이 낮은 이유는 훈련세트의 크기가 줄어들었기 때문입니다.<br>\n",
        "보통 10만개의 데이터를 훈련세트 80% 검증세트 10% 테스트세트 10%로 나누는 것이 일반적입니다.<br>\n",
        "100만개 이상의 데이터는 각각 98% 1% 1%로 샘플을 나눕니다."
      ]
    }
  ]
}