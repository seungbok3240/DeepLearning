{
  "nbformat": 4,
  "nbformat_minor": 0,
  "metadata": {
    "colab": {
      "name": "Binaryclassification_2020_02_27.ipynb",
      "provenance": [],
      "collapsed_sections": [],
      "toc_visible": true,
      "authorship_tag": "ABX9TyODGSlTRmAkf0Rw31+JMoCb",
      "include_colab_link": true
    },
    "kernelspec": {
      "name": "python3",
      "display_name": "Python 3"
    }
  },
  "cells": [
    {
      "cell_type": "markdown",
      "metadata": {
        "id": "view-in-github",
        "colab_type": "text"
      },
      "source": [
        "<a href=\"https://colab.research.google.com/github/seungbok3240/DeepLearning/blob/master/Binaryclassification_2020_02_27.ipynb\" target=\"_parent\"><img src=\"https://colab.research.google.com/assets/colab-badge.svg\" alt=\"Open In Colab\"/></a>"
      ]
    },
    {
      "cell_type": "code",
      "metadata": {
        "id": "kCtuUH2kFNxs",
        "colab_type": "code",
        "colab": {}
      },
      "source": [
        ""
      ],
      "execution_count": 0,
      "outputs": []
    },
    {
      "cell_type": "markdown",
      "metadata": {
        "id": "giYD6fssFh1m",
        "colab_type": "text"
      },
      "source": [
        "# 유방암 데이터 세트 불러오기"
      ]
    },
    {
      "cell_type": "code",
      "metadata": {
        "id": "9k-2676uFnRt",
        "colab_type": "code",
        "colab": {}
      },
      "source": [
        "from sklearn.datasets import load_breast_cancer\n",
        "cancer = load_breast_cancer()"
      ],
      "execution_count": 0,
      "outputs": []
    },
    {
      "cell_type": "markdown",
      "metadata": {
        "id": "51fPO6SwG4-Y",
        "colab_type": "text"
      },
      "source": [
        "# 데이터 확인하기"
      ]
    },
    {
      "cell_type": "markdown",
      "metadata": {
        "id": "E9rhH0LuFynR",
        "colab_type": "text"
      },
      "source": [
        "입력 데이터 확인하기"
      ]
    },
    {
      "cell_type": "code",
      "metadata": {
        "id": "vbqCRfl3Fwfu",
        "colab_type": "code",
        "colab": {
          "base_uri": "https://localhost:8080/",
          "height": 34
        },
        "outputId": "1f6c6df5-f76c-47c1-b312-bb7fb548a7db"
      },
      "source": [
        "cancer.data.shape"
      ],
      "execution_count": 2,
      "outputs": [
        {
          "output_type": "execute_result",
          "data": {
            "text/plain": [
              "(569, 30)"
            ]
          },
          "metadata": {
            "tags": []
          },
          "execution_count": 2
        }
      ]
    },
    {
      "cell_type": "code",
      "metadata": {
        "id": "-YYKeZntF2-f",
        "colab_type": "code",
        "colab": {
          "base_uri": "https://localhost:8080/",
          "height": 34
        },
        "outputId": "0ff042f6-6be9-4408-b92e-f2168ca0cae6"
      },
      "source": [
        "cancer.target.shape"
      ],
      "execution_count": 3,
      "outputs": [
        {
          "output_type": "execute_result",
          "data": {
            "text/plain": [
              "(569,)"
            ]
          },
          "metadata": {
            "tags": []
          },
          "execution_count": 3
        }
      ]
    },
    {
      "cell_type": "markdown",
      "metadata": {
        "id": "oDkQNNVLF8RO",
        "colab_type": "text"
      },
      "source": [
        "처음 3개의 샘플 출력"
      ]
    },
    {
      "cell_type": "code",
      "metadata": {
        "id": "CqkNijHxF6d7",
        "colab_type": "code",
        "colab": {
          "base_uri": "https://localhost:8080/",
          "height": 281
        },
        "outputId": "03107a1f-1e11-4179-b129-613f8ab735d0"
      },
      "source": [
        "cancer.data[:3]"
      ],
      "execution_count": 4,
      "outputs": [
        {
          "output_type": "execute_result",
          "data": {
            "text/plain": [
              "array([[1.799e+01, 1.038e+01, 1.228e+02, 1.001e+03, 1.184e-01, 2.776e-01,\n",
              "        3.001e-01, 1.471e-01, 2.419e-01, 7.871e-02, 1.095e+00, 9.053e-01,\n",
              "        8.589e+00, 1.534e+02, 6.399e-03, 4.904e-02, 5.373e-02, 1.587e-02,\n",
              "        3.003e-02, 6.193e-03, 2.538e+01, 1.733e+01, 1.846e+02, 2.019e+03,\n",
              "        1.622e-01, 6.656e-01, 7.119e-01, 2.654e-01, 4.601e-01, 1.189e-01],\n",
              "       [2.057e+01, 1.777e+01, 1.329e+02, 1.326e+03, 8.474e-02, 7.864e-02,\n",
              "        8.690e-02, 7.017e-02, 1.812e-01, 5.667e-02, 5.435e-01, 7.339e-01,\n",
              "        3.398e+00, 7.408e+01, 5.225e-03, 1.308e-02, 1.860e-02, 1.340e-02,\n",
              "        1.389e-02, 3.532e-03, 2.499e+01, 2.341e+01, 1.588e+02, 1.956e+03,\n",
              "        1.238e-01, 1.866e-01, 2.416e-01, 1.860e-01, 2.750e-01, 8.902e-02],\n",
              "       [1.969e+01, 2.125e+01, 1.300e+02, 1.203e+03, 1.096e-01, 1.599e-01,\n",
              "        1.974e-01, 1.279e-01, 2.069e-01, 5.999e-02, 7.456e-01, 7.869e-01,\n",
              "        4.585e+00, 9.403e+01, 6.150e-03, 4.006e-02, 3.832e-02, 2.058e-02,\n",
              "        2.250e-02, 4.571e-03, 2.357e+01, 2.553e+01, 1.525e+02, 1.709e+03,\n",
              "        1.444e-01, 4.245e-01, 4.504e-01, 2.430e-01, 3.613e-01, 8.758e-02]])"
            ]
          },
          "metadata": {
            "tags": []
          },
          "execution_count": 4
        }
      ]
    },
    {
      "cell_type": "markdown",
      "metadata": {
        "id": "fwx5POvoGPtb",
        "colab_type": "text"
      },
      "source": [
        "그래프를 위한 패키지 선언"
      ]
    },
    {
      "cell_type": "code",
      "metadata": {
        "id": "SgLPpQxsGCRl",
        "colab_type": "code",
        "colab": {}
      },
      "source": [
        "import matplotlib.pyplot as plt\n",
        "import numpy as np"
      ],
      "execution_count": 0,
      "outputs": []
    },
    {
      "cell_type": "code",
      "metadata": {
        "id": "bpkdiiQtGO8f",
        "colab_type": "code",
        "colab": {
          "base_uri": "https://localhost:8080/",
          "height": 279
        },
        "outputId": "ba6f85c0-df42-4c78-9d4f-30a2bd7494d7"
      },
      "source": [
        "plt.boxplot(cancer.data)\n",
        "plt.xlabel('feature')\n",
        "plt.ylabel('value')\n",
        "plt.show()"
      ],
      "execution_count": 6,
      "outputs": [
        {
          "output_type": "display_data",
          "data": {
            "image/png": "[encoded data removed]",
            "text/plain": [
              "<Figure size 432x288 with 1 Axes>"
            ]
          },
          "metadata": {
            "tags": []
          }
        }
      ]
    },
    {
      "cell_type": "markdown",
      "metadata": {
        "id": "f3zg1Fg4Gp3j",
        "colab_type": "text"
      },
      "source": [
        "다른 특성보다 값의 분포가 큰 4,14,24번쨰 특성을 확인"
      ]
    },
    {
      "cell_type": "code",
      "metadata": {
        "id": "PXx5PVp5GeXp",
        "colab_type": "code",
        "colab": {
          "base_uri": "https://localhost:8080/",
          "height": 34
        },
        "outputId": "bc690582-4b57-4b7b-ae4c-f3f9aeac72eb"
      },
      "source": [
        "cancer.feature_names[[3,13,23]]"
      ],
      "execution_count": 7,
      "outputs": [
        {
          "output_type": "execute_result",
          "data": {
            "text/plain": [
              "array(['mean area', 'area error', 'worst area'], dtype='<U23')"
            ]
          },
          "metadata": {
            "tags": []
          },
          "execution_count": 7
        }
      ]
    },
    {
      "cell_type": "markdown",
      "metadata": {
        "id": "6yFoIJvLHE7Z",
        "colab_type": "text"
      },
      "source": [
        "타깃 데이터 확인하기<br>\n",
        "numpy의 unique()를 사용하면 고유한 값을 찾아 반환합니다.<br>\n",
        "return_counts 매개변수를 True로 지정하면 고유한 값을 카운팅합니다."
      ]
    },
    {
      "cell_type": "code",
      "metadata": {
        "id": "s5TcEZ1BGxLl",
        "colab_type": "code",
        "colab": {
          "base_uri": "https://localhost:8080/",
          "height": 34
        },
        "outputId": "413c7dd9-6d31-4cfa-fe65-0e9f60f69ec9"
      },
      "source": [
        "np.unique(cancer.target, return_counts=True)"
      ],
      "execution_count": 8,
      "outputs": [
        {
          "output_type": "execute_result",
          "data": {
            "text/plain": [
              "(array([0, 1]), array([212, 357]))"
            ]
          },
          "metadata": {
            "tags": []
          },
          "execution_count": 8
        }
      ]
    },
    {
      "cell_type": "markdown",
      "metadata": {
        "id": "LyhmQuAPHfry",
        "colab_type": "text"
      },
      "source": [
        "0과 1이 각각 212번 357번 나온다는 것을 알 수 있습니다."
      ]
    },
    {
      "cell_type": "markdown",
      "metadata": {
        "id": "xZTTZwavHlK9",
        "colab_type": "text"
      },
      "source": [
        "# 훈련 데이터 세트 저장하기"
      ]
    },
    {
      "cell_type": "code",
      "metadata": {
        "id": "s24vx4nRHoZK",
        "colab_type": "code",
        "colab": {}
      },
      "source": [
        "x = cancer.data\n",
        "y = cancer.target"
      ],
      "execution_count": 0,
      "outputs": []
    },
    {
      "cell_type": "markdown",
      "metadata": {
        "id": "oqPrEy5sVyxV",
        "colab_type": "text"
      },
      "source": [
        "훈련 세트와 테스트 세트로 나누기"
      ]
    },
    {
      "cell_type": "code",
      "metadata": {
        "id": "lzFJoavaV3PG",
        "colab_type": "code",
        "colab": {}
      },
      "source": [
        "from sklearn.model_selection import train_test_split"
      ],
      "execution_count": 0,
      "outputs": []
    },
    {
      "cell_type": "code",
      "metadata": {
        "id": "nQwTaqbHWFsM",
        "colab_type": "code",
        "colab": {}
      },
      "source": [
        "x_train, x_test, y_train, y_test = train_test_split(x,y, stratify=y, test_size = 0.2, random_state=42)"
      ],
      "execution_count": 0,
      "outputs": []
    },
    {
      "cell_type": "markdown",
      "metadata": {
        "id": "9h8SkzO6WW11",
        "colab_type": "text"
      },
      "source": [
        "train_test_split()는 훈련 세트 75% 테스트 세트 25% 비율로 나눠줍니다.<br>\n",
        "- stratify=y : stratify는 훈련 데이터를 나눌 때 클래스 비율을 동일하게 만듭니다. train_test_split()은 기본적으로 데이터를 나누기 전에 섞지만 일부 클래스 비율이 불균형한 경우에는 stratify를 y로 지정해야 합니다.\n",
        "- test_size = 0.2 : 훈련 세트 80% 테스트 세트 20%로 사용자가 지정합니다.\n",
        "- random_state = 42 : train_test_split()은 무작위로 데이터 세트를 섞은 다음 나눕니다. 섞은 다음 나눈 결과가 항상 일정하도록 random_state를 난수 초깃값 42로 지정해줍니다."
      ]
    },
    {
      "cell_type": "code",
      "metadata": {
        "id": "kLwvQyDeWUIQ",
        "colab_type": "code",
        "colab": {
          "base_uri": "https://localhost:8080/",
          "height": 34
        },
        "outputId": "e54d519c-3fd5-47bb-f692-436d6938a078"
      },
      "source": [
        "print(x_train.shape, x_test.shape)"
      ],
      "execution_count": 12,
      "outputs": [
        {
          "output_type": "stream",
          "text": [
            "(455, 30) (114, 30)\n"
          ],
          "name": "stdout"
        }
      ]
    },
    {
      "cell_type": "markdown",
      "metadata": {
        "id": "PiKyinc0XXcO",
        "colab_type": "text"
      },
      "source": [
        "# 로지스틱 회귀 구현"
      ]
    },
    {
      "cell_type": "code",
      "metadata": {
        "id": "hhh_-1KyXa0x",
        "colab_type": "code",
        "colab": {}
      },
      "source": [
        "class LogisticNeuron:\n",
        "  def __init__(self):\n",
        "    self.w = None\n",
        "    self.b = None\n",
        "\n",
        "  def forpass(self,x):\n",
        "    z = np.sum(x * self.w) + self.b\n",
        "    return z\n",
        "\n",
        "  def backprop(self,x,err):\n",
        "    w_grad = x * err\n",
        "    b_grad = 1 * err\n",
        "    return w_grad, b_grad\n",
        "\n",
        "  def fit(self,x,y,epochs=100):\n",
        "    self.w = np.ones(x.shape[1])  #가중치 초기화  \n",
        "    self.b = 0  #절편 초기화\n",
        "    for i in range(epochs):\n",
        "      for x_i, y_i in zip(x,y):\n",
        "        z = self.forpass(x_i)\n",
        "        a = self.activation(z)  #활성화 함수 적용\n",
        "        err = -(y_i - a)  #오차 계산\n",
        "        w_grad, b_grad = self.backprop(x_i, err)  #역방향\n",
        "        self.w -= w_grad  #가중치 업데이트\n",
        "        self.b -= b_grad  #절편 업데이트\n",
        "\n",
        "  def activation(self, z):  #시그모이드 함수\n",
        "    a = 1 / (1 + np.exp(-z))\n",
        "    return a\n",
        "\n",
        "  def predict(self, x):\n",
        "    z = [self.forpass(x_i) for x_i in x]\n",
        "    a = self.activation(np.array(z))\n",
        "    return a > 0.5"
      ],
      "execution_count": 0,
      "outputs": []
    },
    {
      "cell_type": "markdown",
      "metadata": {
        "id": "0g9YY76kZL69",
        "colab_type": "text"
      },
      "source": [
        "# 만든 모델 훈련시키기"
      ]
    },
    {
      "cell_type": "code",
      "metadata": {
        "id": "wYPFoHcJYuB_",
        "colab_type": "code",
        "colab": {
          "base_uri": "https://localhost:8080/",
          "height": 34
        },
        "outputId": "5f17a5e5-6e6b-4693-a6dc-aff27c02fe30"
      },
      "source": [
        "neuron = LogisticNeuron()\n",
        "neuron.fit(x_train, y_train)"
      ],
      "execution_count": 15,
      "outputs": [
        {
          "output_type": "stream",
          "text": [
            "/usr/local/lib/python3.6/dist-packages/ipykernel_launcher.py:28: RuntimeWarning: overflow encountered in exp\n"
          ],
          "name": "stderr"
        }
      ]
    },
    {
      "cell_type": "code",
      "metadata": {
        "id": "cnrOzMafZU67",
        "colab_type": "code",
        "colab": {
          "base_uri": "https://localhost:8080/",
          "height": 52
        },
        "outputId": "afba1c11-2b1a-40ad-932b-472daab17ac7"
      },
      "source": [
        "np.mean(neuron.predict(x_test) == y_test)"
      ],
      "execution_count": 16,
      "outputs": [
        {
          "output_type": "stream",
          "text": [
            "/usr/local/lib/python3.6/dist-packages/ipykernel_launcher.py:28: RuntimeWarning: overflow encountered in exp\n"
          ],
          "name": "stderr"
        },
        {
          "output_type": "execute_result",
          "data": {
            "text/plain": [
              "0.8245614035087719"
            ]
          },
          "metadata": {
            "tags": []
          },
          "execution_count": 16
        }
      ]
    },
    {
      "cell_type": "markdown",
      "metadata": {
        "id": "QEtmpwHVZeXm",
        "colab_type": "text"
      },
      "source": [
        "82%의 정확성을 확인할 수 있습니다."
      ]
    }
  ]
}