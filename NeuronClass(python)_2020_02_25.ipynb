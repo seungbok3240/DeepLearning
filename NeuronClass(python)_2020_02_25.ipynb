{
  "nbformat": 4,
  "nbformat_minor": 0,
  "metadata": {
    "colab": {
      "name": "NeuronClass(python)_2020_02_25.ipynb",
      "provenance": [],
      "toc_visible": true,
      "authorship_tag": "ABX9TyNZR+heXqRUj4xoF0FSM3Bc",
      "include_colab_link": true
    },
    "kernelspec": {
      "name": "python3",
      "display_name": "Python 3"
    }
  },
  "cells": [
    {
      "cell_type": "markdown",
      "metadata": {
        "id": "view-in-github",
        "colab_type": "text"
      },
      "source": [
        "<a href=\"https://colab.research.google.com/github/seungbok3240/DeepLearning/blob/master/NeuronClass(python)_2020_02_25.ipynb\" target=\"_parent\"><img src=\"https://colab.research.google.com/assets/colab-badge.svg\" alt=\"Open In Colab\"/></a>"
      ]
    },
    {
      "cell_type": "markdown",
      "metadata": {
        "id": "v6YaJjy0_5Ro",
        "colab_type": "text"
      },
      "source": [
        "# Prologue"
      ]
    },
    {
      "cell_type": "markdown",
      "metadata": {
        "id": "FsMu0wSTABqS",
        "colab_type": "text"
      },
      "source": [
        "경사 하강법 알고리즘을 Neuron이라는 이름의 파이썬 클래스 만들어보겠습니다."
      ]
    },
    {
      "cell_type": "markdown",
      "metadata": {
        "id": "4dOI2ZEHAw82",
        "colab_type": "text"
      },
      "source": [
        "# Neuron class"
      ]
    },
    {
      "cell_type": "code",
      "metadata": {
        "id": "_9oTYBOvAJgk",
        "colab_type": "code",
        "colab": {}
      },
      "source": [
        "class Neuron:\n",
        "  def __init__(self): #시적값을 임의로 지정\n",
        "    self.w = 1.0\n",
        "    self.b = 1.0\n",
        "  \n",
        "  def forpass(self, x): #직선 방정식\n",
        "    y_hat = x * self.w + self.b\n",
        "    return y_hat\n",
        "  \n",
        "  def backprop(self, x, err):\n",
        "    w_gard = x * err  #가중치에 대한 gradient 게산\n",
        "    b_grad = 1 * err  #절편에 대한 gradient 계산\n",
        "    return w_grad, b_grad\n",
        "\n",
        "  def fit(self, x, y, epochs=100):\n",
        "    for i in range(epochs):\n",
        "      for x_i, y_i in zip(x,y): #모든 샘플에 대해\n",
        "        y_hat = self.forpass(x_i)\n",
        "        err = -(y_i - y_hat)  #오차 계산\n",
        "        w_grad, b_grad = self.backprop(x_i, err)  #오차를 토대로 계산\n",
        "        self.w -= w_grad  #가중치 업데이트\n",
        "        self.b -= b_grad  #절편 업데이트\n",
        "  \n"
      ],
      "execution_count": 0,
      "outputs": []
    }
  ]
}