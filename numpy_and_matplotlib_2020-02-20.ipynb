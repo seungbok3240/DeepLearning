{
  "nbformat": 4,
  "nbformat_minor": 0,
  "metadata": {
    "colab": {
      "name": "numpy and matplotlib.ipynb",
      "provenance": [],
      "collapsed_sections": [],
      "toc_visible": true,
      "authorship_tag": "ABX9TyNGji1LaaP6zVA3zGUpzwyW",
      "include_colab_link": true
    },
    "kernelspec": {
      "name": "python3",
      "display_name": "Python 3"
    }
  },
  "cells": [
    {
      "cell_type": "markdown",
      "metadata": {
        "id": "view-in-github",
        "colab_type": "text"
      },
      "source": [
        "<a href=\"https://colab.research.google.com/github/seungbok3240/DeepLearning/blob/master/numpy_and_matplotlib_2020-02-20.ipynb\" target=\"_parent\"><img src=\"https://colab.research.google.com/assets/colab-badge.svg\" alt=\"Open In Colab\"/></a>"
      ]
    },
    {
      "cell_type": "markdown",
      "metadata": {
        "id": "7tEXUTsEqlzX",
        "colab_type": "text"
      },
      "source": [
        "#My First experience numpy"
      ]
    },
    {
      "cell_type": "markdown",
      "metadata": {
        "id": "tN77hgFGps3d",
        "colab_type": "text"
      },
      "source": [
        "**Import numpy**"
      ]
    },
    {
      "cell_type": "code",
      "metadata": {
        "id": "o7svJFISoJuH",
        "colab_type": "code",
        "colab": {
          "base_uri": "https://localhost:8080/",
          "height": 34
        },
        "outputId": "400a411b-4b10-4b7a-e129-304242a3062c"
      },
      "source": [
        "import numpy as np\n",
        "\n",
        "np.__version__"
      ],
      "execution_count": 4,
      "outputs": [
        {
          "output_type": "execute_result",
          "data": {
            "text/plain": [
              "'1.17.5'"
            ]
          },
          "metadata": {
            "tags": []
          },
          "execution_count": 4
        }
      ]
    },
    {
      "cell_type": "markdown",
      "metadata": {
        "id": "9zjYR6tVp2Gz",
        "colab_type": "text"
      },
      "source": [
        "**Make array with numpy**"
      ]
    },
    {
      "cell_type": "code",
      "metadata": {
        "id": "S2Q1pL0pogq8",
        "colab_type": "code",
        "colab": {
          "base_uri": "https://localhost:8080/",
          "height": 34
        },
        "outputId": "36604639-541f-45eb-e644-27114aed2973"
      },
      "source": [
        "myarr = np.array([[10,20,30,],[40,50,60]])\n",
        "myarr\n",
        "\n",
        "type(myarr)"
      ],
      "execution_count": 7,
      "outputs": [
        {
          "output_type": "execute_result",
          "data": {
            "text/plain": [
              "numpy.ndarray"
            ]
          },
          "metadata": {
            "tags": []
          },
          "execution_count": 7
        }
      ]
    },
    {
      "cell_type": "markdown",
      "metadata": {
        "id": "sWESvcYRp6-l",
        "colab_type": "text"
      },
      "source": [
        "**sum() numpy**"
      ]
    },
    {
      "cell_type": "code",
      "metadata": {
        "id": "4KtLa8dboyQ6",
        "colab_type": "code",
        "colab": {
          "base_uri": "https://localhost:8080/",
          "height": 34
        },
        "outputId": "ac251c4e-cf2e-42f1-dfa5-e559b8838296"
      },
      "source": [
        "np.sum(myarr)"
      ],
      "execution_count": 9,
      "outputs": [
        {
          "output_type": "execute_result",
          "data": {
            "text/plain": [
              "210"
            ]
          },
          "metadata": {
            "tags": []
          },
          "execution_count": 9
        }
      ]
    },
    {
      "cell_type": "markdown",
      "metadata": {
        "id": "BZvro8j2q8zj",
        "colab_type": "text"
      },
      "source": [
        "#My First experience matplotlib"
      ]
    },
    {
      "cell_type": "markdown",
      "metadata": {
        "id": "lZxaIV_fp-0f",
        "colab_type": "text"
      },
      "source": [
        "**Import matplotlib**"
      ]
    },
    {
      "cell_type": "code",
      "metadata": {
        "id": "YILdK2vipSZT",
        "colab_type": "code",
        "colab": {}
      },
      "source": [
        "import matplotlib.pyplot as plt"
      ],
      "execution_count": 0,
      "outputs": []
    },
    {
      "cell_type": "markdown",
      "metadata": {
        "id": "v2gRhY7_qCG_",
        "colab_type": "text"
      },
      "source": [
        "**선 그래프 그리기**"
      ]
    },
    {
      "cell_type": "code",
      "metadata": {
        "id": "TaK1NB-6pXHG",
        "colab_type": "code",
        "colab": {
          "base_uri": "https://localhost:8080/",
          "height": 265
        },
        "outputId": "6b7330fa-8a23-4dca-94a2-0c23e4805281"
      },
      "source": [
        "plt.plot([1,2,3,4,5],[1,4,9,16,25]) #[x축][y축]\n",
        "plt.show()"
      ],
      "execution_count": 11,
      "outputs": [
        {
          "output_type": "display_data",
          "data": {
            "image/png": "[encoded data removed]",
            "text/plain": [
              "<Figure size 432x288 with 1 Axes>"
            ]
          },
          "metadata": {
            "tags": []
          }
        }
      ]
    },
    {
      "cell_type": "markdown",
      "metadata": {
        "id": "S3q-EjzaqFmD",
        "colab_type": "text"
      },
      "source": [
        "**산점도 그래프 그리기**"
      ]
    },
    {
      "cell_type": "code",
      "metadata": {
        "id": "mhKzldiCpgkR",
        "colab_type": "code",
        "colab": {
          "base_uri": "https://localhost:8080/",
          "height": 265
        },
        "outputId": "7305992d-fe2c-4c2b-a736-8f0d62947a24"
      },
      "source": [
        "plt.scatter([1,2,3,4,5],[1,4,9,16,25])\n",
        "plt.show()"
      ],
      "execution_count": 13,
      "outputs": [
        {
          "output_type": "display_data",
          "data": {
            "image/png": "[encoded data removed]",
            "text/plain": [
              "<Figure size 432x288 with 1 Axes>"
            ]
          },
          "metadata": {
            "tags": []
          }
        }
      ]
    },
    {
      "cell_type": "code",
      "metadata": {
        "id": "VSox0oYjpo5H",
        "colab_type": "code",
        "colab": {
          "base_uri": "https://localhost:8080/",
          "height": 265
        },
        "outputId": "c862ab81-14b2-4af9-ad6d-be7c05faa09d"
      },
      "source": [
        "x = np.random.randn(1000)\n",
        "y = np.random.randn(1000)\n",
        "plt.scatter(x,y)\n",
        "plt.show()"
      ],
      "execution_count": 14,
      "outputs": [
        {
          "output_type": "display_data",
          "data": {
            "image/png": "[encoded data removed]",
            "text/plain": [
              "<Figure size 432x288 with 1 Axes>"
            ]
          },
          "metadata": {
            "tags": []
          }
        }
      ]
    }
  ]
}